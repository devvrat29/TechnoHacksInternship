{
 "cells": [
  {
   "cell_type": "code",
   "execution_count": 1,
   "id": "a6fc3ea2",
   "metadata": {},
   "outputs": [],
   "source": [
    "import numpy as np\n",
    "import pandas as pd"
   ]
  },
  {
   "cell_type": "code",
   "execution_count": 3,
   "id": "b5368e3f",
   "metadata": {},
   "outputs": [
    {
     "data": {
      "text/html": [
       "<div>\n",
       "<style scoped>\n",
       "    .dataframe tbody tr th:only-of-type {\n",
       "        vertical-align: middle;\n",
       "    }\n",
       "\n",
       "    .dataframe tbody tr th {\n",
       "        vertical-align: top;\n",
       "    }\n",
       "\n",
       "    .dataframe thead th {\n",
       "        text-align: right;\n",
       "    }\n",
       "</style>\n",
       "<table border=\"1\" class=\"dataframe\">\n",
       "  <thead>\n",
       "    <tr style=\"text-align: right;\">\n",
       "      <th></th>\n",
       "      <th>PassengerId</th>\n",
       "      <th>Survived</th>\n",
       "      <th>Pclass</th>\n",
       "      <th>Name</th>\n",
       "      <th>Sex</th>\n",
       "      <th>Age</th>\n",
       "      <th>SibSp</th>\n",
       "      <th>Parch</th>\n",
       "      <th>Ticket</th>\n",
       "      <th>Fare</th>\n",
       "      <th>Cabin</th>\n",
       "      <th>Embarked</th>\n",
       "    </tr>\n",
       "  </thead>\n",
       "  <tbody>\n",
       "    <tr>\n",
       "      <th>0</th>\n",
       "      <td>1</td>\n",
       "      <td>0</td>\n",
       "      <td>3</td>\n",
       "      <td>Braund, Mr. Owen Harris</td>\n",
       "      <td>male</td>\n",
       "      <td>22.0</td>\n",
       "      <td>1</td>\n",
       "      <td>0</td>\n",
       "      <td>A/5 21171</td>\n",
       "      <td>7.2500</td>\n",
       "      <td>NaN</td>\n",
       "      <td>S</td>\n",
       "    </tr>\n",
       "    <tr>\n",
       "      <th>1</th>\n",
       "      <td>2</td>\n",
       "      <td>1</td>\n",
       "      <td>1</td>\n",
       "      <td>Cumings, Mrs. John Bradley (Florence Briggs Th...</td>\n",
       "      <td>female</td>\n",
       "      <td>38.0</td>\n",
       "      <td>1</td>\n",
       "      <td>0</td>\n",
       "      <td>PC 17599</td>\n",
       "      <td>71.2833</td>\n",
       "      <td>C85</td>\n",
       "      <td>C</td>\n",
       "    </tr>\n",
       "    <tr>\n",
       "      <th>2</th>\n",
       "      <td>3</td>\n",
       "      <td>1</td>\n",
       "      <td>3</td>\n",
       "      <td>Heikkinen, Miss. Laina</td>\n",
       "      <td>female</td>\n",
       "      <td>26.0</td>\n",
       "      <td>0</td>\n",
       "      <td>0</td>\n",
       "      <td>STON/O2. 3101282</td>\n",
       "      <td>7.9250</td>\n",
       "      <td>NaN</td>\n",
       "      <td>S</td>\n",
       "    </tr>\n",
       "    <tr>\n",
       "      <th>3</th>\n",
       "      <td>4</td>\n",
       "      <td>1</td>\n",
       "      <td>1</td>\n",
       "      <td>Futrelle, Mrs. Jacques Heath (Lily May Peel)</td>\n",
       "      <td>female</td>\n",
       "      <td>35.0</td>\n",
       "      <td>1</td>\n",
       "      <td>0</td>\n",
       "      <td>113803</td>\n",
       "      <td>53.1000</td>\n",
       "      <td>C123</td>\n",
       "      <td>S</td>\n",
       "    </tr>\n",
       "    <tr>\n",
       "      <th>4</th>\n",
       "      <td>5</td>\n",
       "      <td>0</td>\n",
       "      <td>3</td>\n",
       "      <td>Allen, Mr. William Henry</td>\n",
       "      <td>male</td>\n",
       "      <td>35.0</td>\n",
       "      <td>0</td>\n",
       "      <td>0</td>\n",
       "      <td>373450</td>\n",
       "      <td>8.0500</td>\n",
       "      <td>NaN</td>\n",
       "      <td>S</td>\n",
       "    </tr>\n",
       "  </tbody>\n",
       "</table>\n",
       "</div>"
      ],
      "text/plain": [
       "   PassengerId  Survived  Pclass  \\\n",
       "0            1         0       3   \n",
       "1            2         1       1   \n",
       "2            3         1       3   \n",
       "3            4         1       1   \n",
       "4            5         0       3   \n",
       "\n",
       "                                                Name     Sex   Age  SibSp  \\\n",
       "0                            Braund, Mr. Owen Harris    male  22.0      1   \n",
       "1  Cumings, Mrs. John Bradley (Florence Briggs Th...  female  38.0      1   \n",
       "2                             Heikkinen, Miss. Laina  female  26.0      0   \n",
       "3       Futrelle, Mrs. Jacques Heath (Lily May Peel)  female  35.0      1   \n",
       "4                           Allen, Mr. William Henry    male  35.0      0   \n",
       "\n",
       "   Parch            Ticket     Fare Cabin Embarked  \n",
       "0      0         A/5 21171   7.2500   NaN        S  \n",
       "1      0          PC 17599  71.2833   C85        C  \n",
       "2      0  STON/O2. 3101282   7.9250   NaN        S  \n",
       "3      0            113803  53.1000  C123        S  \n",
       "4      0            373450   8.0500   NaN        S  "
      ]
     },
     "execution_count": 3,
     "metadata": {},
     "output_type": "execute_result"
    }
   ],
   "source": [
    "df= pd.read_csv(\"C:/Users/devka/Documents/Python Scripts/train.csv\")\n",
    "df.head()"
   ]
  },
  {
   "cell_type": "code",
   "execution_count": 6,
   "id": "c12af2c0",
   "metadata": {},
   "outputs": [
    {
     "data": {
      "text/html": [
       "<div>\n",
       "<style scoped>\n",
       "    .dataframe tbody tr th:only-of-type {\n",
       "        vertical-align: middle;\n",
       "    }\n",
       "\n",
       "    .dataframe tbody tr th {\n",
       "        vertical-align: top;\n",
       "    }\n",
       "\n",
       "    .dataframe thead th {\n",
       "        text-align: right;\n",
       "    }\n",
       "</style>\n",
       "<table border=\"1\" class=\"dataframe\">\n",
       "  <thead>\n",
       "    <tr style=\"text-align: right;\">\n",
       "      <th></th>\n",
       "      <th>PassengerId</th>\n",
       "      <th>Pclass</th>\n",
       "      <th>Name</th>\n",
       "      <th>Sex</th>\n",
       "      <th>Age</th>\n",
       "      <th>SibSp</th>\n",
       "      <th>Parch</th>\n",
       "      <th>Ticket</th>\n",
       "      <th>Fare</th>\n",
       "      <th>Cabin</th>\n",
       "      <th>Embarked</th>\n",
       "    </tr>\n",
       "  </thead>\n",
       "  <tbody>\n",
       "    <tr>\n",
       "      <th>0</th>\n",
       "      <td>892</td>\n",
       "      <td>3</td>\n",
       "      <td>Kelly, Mr. James</td>\n",
       "      <td>male</td>\n",
       "      <td>34.5</td>\n",
       "      <td>0</td>\n",
       "      <td>0</td>\n",
       "      <td>330911</td>\n",
       "      <td>7.8292</td>\n",
       "      <td>NaN</td>\n",
       "      <td>Q</td>\n",
       "    </tr>\n",
       "    <tr>\n",
       "      <th>1</th>\n",
       "      <td>893</td>\n",
       "      <td>3</td>\n",
       "      <td>Wilkes, Mrs. James (Ellen Needs)</td>\n",
       "      <td>female</td>\n",
       "      <td>47.0</td>\n",
       "      <td>1</td>\n",
       "      <td>0</td>\n",
       "      <td>363272</td>\n",
       "      <td>7.0000</td>\n",
       "      <td>NaN</td>\n",
       "      <td>S</td>\n",
       "    </tr>\n",
       "    <tr>\n",
       "      <th>2</th>\n",
       "      <td>894</td>\n",
       "      <td>2</td>\n",
       "      <td>Myles, Mr. Thomas Francis</td>\n",
       "      <td>male</td>\n",
       "      <td>62.0</td>\n",
       "      <td>0</td>\n",
       "      <td>0</td>\n",
       "      <td>240276</td>\n",
       "      <td>9.6875</td>\n",
       "      <td>NaN</td>\n",
       "      <td>Q</td>\n",
       "    </tr>\n",
       "    <tr>\n",
       "      <th>3</th>\n",
       "      <td>895</td>\n",
       "      <td>3</td>\n",
       "      <td>Wirz, Mr. Albert</td>\n",
       "      <td>male</td>\n",
       "      <td>27.0</td>\n",
       "      <td>0</td>\n",
       "      <td>0</td>\n",
       "      <td>315154</td>\n",
       "      <td>8.6625</td>\n",
       "      <td>NaN</td>\n",
       "      <td>S</td>\n",
       "    </tr>\n",
       "    <tr>\n",
       "      <th>4</th>\n",
       "      <td>896</td>\n",
       "      <td>3</td>\n",
       "      <td>Hirvonen, Mrs. Alexander (Helga E Lindqvist)</td>\n",
       "      <td>female</td>\n",
       "      <td>22.0</td>\n",
       "      <td>1</td>\n",
       "      <td>1</td>\n",
       "      <td>3101298</td>\n",
       "      <td>12.2875</td>\n",
       "      <td>NaN</td>\n",
       "      <td>S</td>\n",
       "    </tr>\n",
       "  </tbody>\n",
       "</table>\n",
       "</div>"
      ],
      "text/plain": [
       "   PassengerId  Pclass                                          Name     Sex  \\\n",
       "0          892       3                              Kelly, Mr. James    male   \n",
       "1          893       3              Wilkes, Mrs. James (Ellen Needs)  female   \n",
       "2          894       2                     Myles, Mr. Thomas Francis    male   \n",
       "3          895       3                              Wirz, Mr. Albert    male   \n",
       "4          896       3  Hirvonen, Mrs. Alexander (Helga E Lindqvist)  female   \n",
       "\n",
       "    Age  SibSp  Parch   Ticket     Fare Cabin Embarked  \n",
       "0  34.5      0      0   330911   7.8292   NaN        Q  \n",
       "1  47.0      1      0   363272   7.0000   NaN        S  \n",
       "2  62.0      0      0   240276   9.6875   NaN        Q  \n",
       "3  27.0      0      0   315154   8.6625   NaN        S  \n",
       "4  22.0      1      1  3101298  12.2875   NaN        S  "
      ]
     },
     "execution_count": 6,
     "metadata": {},
     "output_type": "execute_result"
    }
   ],
   "source": [
    "df1= pd.read_csv(\"C:/Users/devka/Documents/Python Scripts/test.csv\")\n",
    "df1.head()"
   ]
  },
  {
   "cell_type": "code",
   "execution_count": 7,
   "id": "40be5c3f",
   "metadata": {},
   "outputs": [
    {
     "data": {
      "text/html": [
       "<div>\n",
       "<style scoped>\n",
       "    .dataframe tbody tr th:only-of-type {\n",
       "        vertical-align: middle;\n",
       "    }\n",
       "\n",
       "    .dataframe tbody tr th {\n",
       "        vertical-align: top;\n",
       "    }\n",
       "\n",
       "    .dataframe thead th {\n",
       "        text-align: right;\n",
       "    }\n",
       "</style>\n",
       "<table border=\"1\" class=\"dataframe\">\n",
       "  <thead>\n",
       "    <tr style=\"text-align: right;\">\n",
       "      <th></th>\n",
       "      <th>PassengerId</th>\n",
       "      <th>Survived</th>\n",
       "    </tr>\n",
       "  </thead>\n",
       "  <tbody>\n",
       "    <tr>\n",
       "      <th>0</th>\n",
       "      <td>892</td>\n",
       "      <td>0</td>\n",
       "    </tr>\n",
       "    <tr>\n",
       "      <th>1</th>\n",
       "      <td>893</td>\n",
       "      <td>1</td>\n",
       "    </tr>\n",
       "    <tr>\n",
       "      <th>2</th>\n",
       "      <td>894</td>\n",
       "      <td>0</td>\n",
       "    </tr>\n",
       "    <tr>\n",
       "      <th>3</th>\n",
       "      <td>895</td>\n",
       "      <td>0</td>\n",
       "    </tr>\n",
       "    <tr>\n",
       "      <th>4</th>\n",
       "      <td>896</td>\n",
       "      <td>1</td>\n",
       "    </tr>\n",
       "  </tbody>\n",
       "</table>\n",
       "</div>"
      ],
      "text/plain": [
       "   PassengerId  Survived\n",
       "0          892         0\n",
       "1          893         1\n",
       "2          894         0\n",
       "3          895         0\n",
       "4          896         1"
      ]
     },
     "execution_count": 7,
     "metadata": {},
     "output_type": "execute_result"
    }
   ],
   "source": [
    "df2= pd.read_csv(\"C:/Users/devka/Documents/Python Scripts/gender_submission.csv\")\n",
    "df2.head()"
   ]
  },
  {
   "cell_type": "code",
   "execution_count": 8,
   "id": "b6696c5f",
   "metadata": {},
   "outputs": [
    {
     "data": {
      "text/plain": [
       "PassengerId    0\n",
       "Survived       0\n",
       "dtype: int64"
      ]
     },
     "execution_count": 8,
     "metadata": {},
     "output_type": "execute_result"
    }
   ],
   "source": [
    "df.isnull().sum()"
   ]
  },
  {
   "cell_type": "code",
   "execution_count": 9,
   "id": "45b9be8e",
   "metadata": {},
   "outputs": [],
   "source": [
    "for i in df:\n",
    "  df[i]=df[i].fillna(df[i].mode()[0])"
   ]
  },
  {
   "cell_type": "code",
   "execution_count": 10,
   "id": "af363539",
   "metadata": {},
   "outputs": [],
   "source": [
    "for i in df:\n",
    "  if df[i].dtypes == 'O':\n",
    "    print(i)"
   ]
  },
  {
   "cell_type": "code",
   "execution_count": 11,
   "id": "99e59ab1",
   "metadata": {},
   "outputs": [
    {
     "data": {
      "text/plain": [
       "PassengerId    0\n",
       "Survived       0\n",
       "dtype: int64"
      ]
     },
     "execution_count": 11,
     "metadata": {},
     "output_type": "execute_result"
    }
   ],
   "source": [
    "df.isnull().sum()"
   ]
  },
  {
   "cell_type": "code",
   "execution_count": 12,
   "id": "11a77ab8",
   "metadata": {},
   "outputs": [
    {
     "data": {
      "text/plain": [
       "PassengerId    int64\n",
       "Survived       int64\n",
       "dtype: object"
      ]
     },
     "execution_count": 12,
     "metadata": {},
     "output_type": "execute_result"
    }
   ],
   "source": [
    "df.dtypes"
   ]
  },
  {
   "cell_type": "code",
   "execution_count": 13,
   "id": "6dd0d32f",
   "metadata": {},
   "outputs": [
    {
     "data": {
      "text/plain": [
       "PassengerId      0\n",
       "Pclass           0\n",
       "Name             0\n",
       "Sex              0\n",
       "Age             86\n",
       "SibSp            0\n",
       "Parch            0\n",
       "Ticket           0\n",
       "Fare             1\n",
       "Cabin          327\n",
       "Embarked         0\n",
       "dtype: int64"
      ]
     },
     "execution_count": 13,
     "metadata": {},
     "output_type": "execute_result"
    }
   ],
   "source": [
    "df1.isnull().sum()"
   ]
  },
  {
   "cell_type": "code",
   "execution_count": 14,
   "id": "cbf9c330",
   "metadata": {},
   "outputs": [],
   "source": [
    "df1['Age'].fillna(df1['Age'].mean(), inplace=True)"
   ]
  },
  {
   "cell_type": "code",
   "execution_count": 15,
   "id": "177e7b7d",
   "metadata": {},
   "outputs": [],
   "source": [
    "df1['Age']=pd.to_numeric(df1['Age'])"
   ]
  },
  {
   "cell_type": "code",
   "execution_count": 16,
   "id": "ff1e9fab",
   "metadata": {},
   "outputs": [
    {
     "data": {
      "text/plain": [
       "PassengerId      0\n",
       "Pclass           0\n",
       "Name             0\n",
       "Sex              0\n",
       "Age              0\n",
       "SibSp            0\n",
       "Parch            0\n",
       "Ticket           0\n",
       "Fare             1\n",
       "Cabin          327\n",
       "Embarked         0\n",
       "dtype: int64"
      ]
     },
     "execution_count": 16,
     "metadata": {},
     "output_type": "execute_result"
    }
   ],
   "source": [
    "df1.isnull().sum()"
   ]
  },
  {
   "cell_type": "code",
   "execution_count": 17,
   "id": "9f2b934f",
   "metadata": {},
   "outputs": [
    {
     "data": {
      "text/plain": [
       "array([nan, 'B45', 'E31', 'B57 B59 B63 B66', 'B36', 'A21', 'C78', 'D34',\n",
       "       'D19', 'A9', 'D15', 'C31', 'C23 C25 C27', 'F G63', 'B61', 'C53',\n",
       "       'D43', 'C130', 'C132', 'C101', 'C55 C57', 'B71', 'C46', 'C116',\n",
       "       'F', 'A29', 'G6', 'C6', 'C28', 'C51', 'E46', 'C54', 'C97', 'D22',\n",
       "       'B10', 'F4', 'E45', 'E52', 'D30', 'B58 B60', 'E34', 'C62 C64',\n",
       "       'A11', 'B11', 'C80', 'F33', 'C85', 'D37', 'C86', 'D21', 'C89',\n",
       "       'F E46', 'A34', 'D', 'B26', 'C22 C26', 'B69', 'C32', 'B78',\n",
       "       'F E57', 'F2', 'A18', 'C106', 'B51 B53 B55', 'D10 D12', 'E60',\n",
       "       'E50', 'E39 E41', 'B52 B54 B56', 'C39', 'B24', 'D28', 'B41', 'C7',\n",
       "       'D40', 'D38', 'C105'], dtype=object)"
      ]
     },
     "execution_count": 17,
     "metadata": {},
     "output_type": "execute_result"
    }
   ],
   "source": [
    "df1[\"Cabin\"].unique()"
   ]
  },
  {
   "cell_type": "code",
   "execution_count": 18,
   "id": "a8463692",
   "metadata": {},
   "outputs": [],
   "source": [
    "for i in df1:\n",
    "  df1[i]=df1[i].fillna(df1[i].mode()[0])"
   ]
  },
  {
   "cell_type": "code",
   "execution_count": 19,
   "id": "9c318d6d",
   "metadata": {},
   "outputs": [
    {
     "name": "stdout",
     "output_type": "stream",
     "text": [
      "Name\n",
      "Sex\n",
      "Ticket\n",
      "Cabin\n",
      "Embarked\n"
     ]
    }
   ],
   "source": [
    "for i in df1:\n",
    "  if df1[i].dtypes == 'O':\n",
    "    print(i)"
   ]
  },
  {
   "cell_type": "code",
   "execution_count": 20,
   "id": "68eb907a",
   "metadata": {},
   "outputs": [
    {
     "data": {
      "text/plain": [
       "PassengerId    0\n",
       "Pclass         0\n",
       "Name           0\n",
       "Sex            0\n",
       "Age            0\n",
       "SibSp          0\n",
       "Parch          0\n",
       "Ticket         0\n",
       "Fare           0\n",
       "Cabin          0\n",
       "Embarked       0\n",
       "dtype: int64"
      ]
     },
     "execution_count": 20,
     "metadata": {},
     "output_type": "execute_result"
    }
   ],
   "source": [
    "df1.isnull().sum()"
   ]
  },
  {
   "cell_type": "code",
   "execution_count": 21,
   "id": "02809800",
   "metadata": {},
   "outputs": [
    {
     "data": {
      "text/plain": [
       "PassengerId    int64\n",
       "Survived       int64\n",
       "dtype: object"
      ]
     },
     "execution_count": 21,
     "metadata": {},
     "output_type": "execute_result"
    }
   ],
   "source": [
    "df.dtypes"
   ]
  },
  {
   "cell_type": "code",
   "execution_count": 22,
   "id": "bfb3dfbc",
   "metadata": {},
   "outputs": [
    {
     "data": {
      "text/plain": [
       "PassengerId    0\n",
       "Survived       0\n",
       "dtype: int64"
      ]
     },
     "execution_count": 22,
     "metadata": {},
     "output_type": "execute_result"
    }
   ],
   "source": [
    "df2.isnull().sum()"
   ]
  },
  {
   "cell_type": "code",
   "execution_count": 23,
   "id": "1118c076",
   "metadata": {},
   "outputs": [
    {
     "name": "stdout",
     "output_type": "stream",
     "text": [
      "PassengerId\n",
      "[ 892  893  894  895  896  897  898  899  900  901  902  903  904  905\n",
      "  906  907  908  909  910  911  912  913  914  915  916  917  918  919\n",
      "  920  921  922  923  924  925  926  927  928  929  930  931  932  933\n",
      "  934  935  936  937  938  939  940  941  942  943  944  945  946  947\n",
      "  948  949  950  951  952  953  954  955  956  957  958  959  960  961\n",
      "  962  963  964  965  966  967  968  969  970  971  972  973  974  975\n",
      "  976  977  978  979  980  981  982  983  984  985  986  987  988  989\n",
      "  990  991  992  993  994  995  996  997  998  999 1000 1001 1002 1003\n",
      " 1004 1005 1006 1007 1008 1009 1010 1011 1012 1013 1014 1015 1016 1017\n",
      " 1018 1019 1020 1021 1022 1023 1024 1025 1026 1027 1028 1029 1030 1031\n",
      " 1032 1033 1034 1035 1036 1037 1038 1039 1040 1041 1042 1043 1044 1045\n",
      " 1046 1047 1048 1049 1050 1051 1052 1053 1054 1055 1056 1057 1058 1059\n",
      " 1060 1061 1062 1063 1064 1065 1066 1067 1068 1069 1070 1071 1072 1073\n",
      " 1074 1075 1076 1077 1078 1079 1080 1081 1082 1083 1084 1085 1086 1087\n",
      " 1088 1089 1090 1091 1092 1093 1094 1095 1096 1097 1098 1099 1100 1101\n",
      " 1102 1103 1104 1105 1106 1107 1108 1109 1110 1111 1112 1113 1114 1115\n",
      " 1116 1117 1118 1119 1120 1121 1122 1123 1124 1125 1126 1127 1128 1129\n",
      " 1130 1131 1132 1133 1134 1135 1136 1137 1138 1139 1140 1141 1142 1143\n",
      " 1144 1145 1146 1147 1148 1149 1150 1151 1152 1153 1154 1155 1156 1157\n",
      " 1158 1159 1160 1161 1162 1163 1164 1165 1166 1167 1168 1169 1170 1171\n",
      " 1172 1173 1174 1175 1176 1177 1178 1179 1180 1181 1182 1183 1184 1185\n",
      " 1186 1187 1188 1189 1190 1191 1192 1193 1194 1195 1196 1197 1198 1199\n",
      " 1200 1201 1202 1203 1204 1205 1206 1207 1208 1209 1210 1211 1212 1213\n",
      " 1214 1215 1216 1217 1218 1219 1220 1221 1222 1223 1224 1225 1226 1227\n",
      " 1228 1229 1230 1231 1232 1233 1234 1235 1236 1237 1238 1239 1240 1241\n",
      " 1242 1243 1244 1245 1246 1247 1248 1249 1250 1251 1252 1253 1254 1255\n",
      " 1256 1257 1258 1259 1260 1261 1262 1263 1264 1265 1266 1267 1268 1269\n",
      " 1270 1271 1272 1273 1274 1275 1276 1277 1278 1279 1280 1281 1282 1283\n",
      " 1284 1285 1286 1287 1288 1289 1290 1291 1292 1293 1294 1295 1296 1297\n",
      " 1298 1299 1300 1301 1302 1303 1304 1305 1306 1307 1308 1309]\n",
      "\n",
      "\n",
      "Survived\n",
      "[0 1]\n",
      "\n",
      "\n"
     ]
    }
   ],
   "source": [
    "for i in df.columns:\n",
    "  print(i,df[i].sort_values().unique(),\"\\n\",sep=\"\\n\")"
   ]
  },
  {
   "cell_type": "code",
   "execution_count": 24,
   "id": "29cccfed",
   "metadata": {},
   "outputs": [
    {
     "name": "stdout",
     "output_type": "stream",
     "text": [
      "PassengerId\n",
      "[ 892  893  894  895  896  897  898  899  900  901  902  903  904  905\n",
      "  906  907  908  909  910  911  912  913  914  915  916  917  918  919\n",
      "  920  921  922  923  924  925  926  927  928  929  930  931  932  933\n",
      "  934  935  936  937  938  939  940  941  942  943  944  945  946  947\n",
      "  948  949  950  951  952  953  954  955  956  957  958  959  960  961\n",
      "  962  963  964  965  966  967  968  969  970  971  972  973  974  975\n",
      "  976  977  978  979  980  981  982  983  984  985  986  987  988  989\n",
      "  990  991  992  993  994  995  996  997  998  999 1000 1001 1002 1003\n",
      " 1004 1005 1006 1007 1008 1009 1010 1011 1012 1013 1014 1015 1016 1017\n",
      " 1018 1019 1020 1021 1022 1023 1024 1025 1026 1027 1028 1029 1030 1031\n",
      " 1032 1033 1034 1035 1036 1037 1038 1039 1040 1041 1042 1043 1044 1045\n",
      " 1046 1047 1048 1049 1050 1051 1052 1053 1054 1055 1056 1057 1058 1059\n",
      " 1060 1061 1062 1063 1064 1065 1066 1067 1068 1069 1070 1071 1072 1073\n",
      " 1074 1075 1076 1077 1078 1079 1080 1081 1082 1083 1084 1085 1086 1087\n",
      " 1088 1089 1090 1091 1092 1093 1094 1095 1096 1097 1098 1099 1100 1101\n",
      " 1102 1103 1104 1105 1106 1107 1108 1109 1110 1111 1112 1113 1114 1115\n",
      " 1116 1117 1118 1119 1120 1121 1122 1123 1124 1125 1126 1127 1128 1129\n",
      " 1130 1131 1132 1133 1134 1135 1136 1137 1138 1139 1140 1141 1142 1143\n",
      " 1144 1145 1146 1147 1148 1149 1150 1151 1152 1153 1154 1155 1156 1157\n",
      " 1158 1159 1160 1161 1162 1163 1164 1165 1166 1167 1168 1169 1170 1171\n",
      " 1172 1173 1174 1175 1176 1177 1178 1179 1180 1181 1182 1183 1184 1185\n",
      " 1186 1187 1188 1189 1190 1191 1192 1193 1194 1195 1196 1197 1198 1199\n",
      " 1200 1201 1202 1203 1204 1205 1206 1207 1208 1209 1210 1211 1212 1213\n",
      " 1214 1215 1216 1217 1218 1219 1220 1221 1222 1223 1224 1225 1226 1227\n",
      " 1228 1229 1230 1231 1232 1233 1234 1235 1236 1237 1238 1239 1240 1241\n",
      " 1242 1243 1244 1245 1246 1247 1248 1249 1250 1251 1252 1253 1254 1255\n",
      " 1256 1257 1258 1259 1260 1261 1262 1263 1264 1265 1266 1267 1268 1269\n",
      " 1270 1271 1272 1273 1274 1275 1276 1277 1278 1279 1280 1281 1282 1283\n",
      " 1284 1285 1286 1287 1288 1289 1290 1291 1292 1293 1294 1295 1296 1297\n",
      " 1298 1299 1300 1301 1302 1303 1304 1305 1306 1307 1308 1309]\n",
      "\n",
      "\n",
      "Pclass\n",
      "[1 2 3]\n",
      "\n",
      "\n",
      "Name\n",
      "['Abbott, Master. Eugene Joseph' 'Abelseth, Miss. Karen Marie'\n",
      " 'Abelseth, Mr. Olaus Jorgensen'\n",
      " 'Abrahamsson, Mr. Abraham August Johannes'\n",
      " 'Abrahim, Mrs. Joseph (Sophie Halaut Easu)' 'Aks, Master. Philip Frank'\n",
      " 'Aldworth, Mr. Charles Augustus' 'Allison, Mr. Hudson Joshua Creighton'\n",
      " 'Andersen, Mr. Albert Karvin' 'Andersson, Miss. Ida Augusta Margareta'\n",
      " 'Andersson, Mr. Johan Samuel' 'Andrew, Mr. Frank Thomas'\n",
      " 'Angheloff, Mr. Minko' 'Angle, Mr. William A'\n",
      " 'Aronsson, Mr. Ernst Axel Algot' 'Ashby, Mr. John'\n",
      " 'Asplund, Master. Carl Edgar' 'Asplund, Master. Filip Oscar'\n",
      " 'Asplund, Mr. Carl Oscar Vilhelm Gustafsson' 'Asplund, Mr. Johan Charles'\n",
      " 'Assaf Khalil, Mrs. Mariana (Miriam\")\"' 'Assaf, Mr. Gerios'\n",
      " 'Assam, Mr. Ali' 'Astor, Col. John Jacob' 'Baccos, Mr. Raffull'\n",
      " 'Badman, Miss. Emily Louisa' 'Baimbrigge, Mr. Charles Robert'\n",
      " 'Barry, Miss. Julia' 'Beattie, Mr. Thomson' 'Beauchamp, Mr. Henry James'\n",
      " 'Becker, Miss. Ruth Elizabeth'\n",
      " 'Becker, Mrs. Allen Oliver (Nellie E Baumgardner)'\n",
      " 'Bentham, Miss. Lilian W' 'Betros, Master. Seman' 'Bird, Miss. Ellen'\n",
      " 'Birnbaum, Mr. Jakob' 'Bjorklund, Mr. Ernst Herbert'\n",
      " 'Bonnell, Miss. Caroline' 'Borebank, Mr. John James'\n",
      " 'Botsford, Mr. William Hull' 'Boulos, Master. Akar'\n",
      " 'Bowen, Miss. Grace Scott' 'Bowenur, Mr. Solomon'\n",
      " 'Bradley, Miss. Bridget Delia' 'Brady, Mr. John Bertram'\n",
      " 'Braf, Miss. Elin Ester Maria' 'Brandeis, Mr. Emil'\n",
      " 'Brobeck, Mr. Karl Rudolf' 'Brown, Miss. Edith Eileen'\n",
      " 'Brown, Mrs. John Murray (Caroline Lane Lamson)'\n",
      " 'Bryhl, Miss. Dagmar Jenny Ingeborg ' 'Buckley, Miss. Katherine'\n",
      " 'Buckley, Mr. Daniel' 'Bucknell, Mrs. William Robert (Emma Eliza Ward)'\n",
      " 'Burns, Miss. Mary Delia' 'Cacic, Miss. Manda' 'Cacic, Mr. Jego Grga'\n",
      " 'Caldwell, Mr. Albert Francis' 'Canavan, Mr. Patrick'\n",
      " 'Candee, Mrs. Edward (Helen Churchill Hungerford)' 'Caram, Mr. Joseph'\n",
      " 'Cardeza, Mrs. James Warburton Martinez (Charlotte Wardle Drake)'\n",
      " 'Carlsson, Mr. Carl Robert' 'Carr, Miss. Jeannie'\n",
      " 'Carrau, Mr. Jose Pedro' 'Carver, Mr. Alfred John'\n",
      " 'Case, Mr. Howard Brown'\n",
      " 'Cassebeer, Mrs. Henry Arthur Jr (Eleanor Genevieve Fosdick)'\n",
      " 'Cavendish, Mrs. Tyrell William (Julia Florence Siegel)'\n",
      " 'Chaffee, Mrs. Herbert Fuller (Carrie Constance Toogood)'\n",
      " 'Chapman, Mrs. John Henry (Sara Elizabeth Lawry)'\n",
      " 'Chaudanson, Miss. Victorine' 'Chevre, Mr. Paul Romaine'\n",
      " 'Chisholm, Mr. Roderick Robert Crispin' 'Christy, Mrs. (Alice Frances)'\n",
      " 'Chronopoulos, Mr. Demetrios' 'Clark, Mr. Walter Miller'\n",
      " 'Clark, Mrs. Walter Miller (Virginia McDowell)'\n",
      " 'Clarke, Mr. Charles Valentine' 'Colbert, Mr. Patrick'\n",
      " 'Collett, Mr. Sidney C Stuart' 'Compton, Mr. Alexander Taylor Jr'\n",
      " 'Compton, Mrs. Alexander Taylor (Mary Eliza Ingersoll)'\n",
      " 'Conlon, Mr. Thomas Henry' 'Connolly, Miss. Kate'\n",
      " 'Cook, Mrs. (Selena Rogers)' 'Cor, Mr. Bartol' 'Cor, Mr. Ivan'\n",
      " 'Corbett, Mrs. Walter H (Irene Colvin)'\n",
      " 'Corey, Mrs. Percy C (Mary Phyllis Elizabeth Miller)'\n",
      " 'Cornell, Mrs. Robert Clifford (Malvina Helen Lamson)'\n",
      " 'Cotterill, Mr. Henry Harry\"\"'\n",
      " 'Coutts, Mrs. William (Winnie Minnie\" Treanor)\"'\n",
      " 'Crafton, Mr. John Bertram' 'Cribb, Miss. Laura Alice'\n",
      " 'Crosby, Mrs. Edward Gifford (Catherine Elizabeth Halstead)'\n",
      " 'Cumings, Mr. John Bradley' 'Daher, Mr. Shedid'\n",
      " 'Daly, Miss. Margaret Marcella Maggie\"\"'\n",
      " 'Danbom, Master. Gilbert Sigvard Emanuel' 'Daniels, Miss. Sarah'\n",
      " 'Davidson, Mrs. Thornton (Orian Hays)' 'Davies, Mr. Evan'\n",
      " 'Davies, Mr. John Samuel' 'Davies, Mr. Joseph'\n",
      " 'Davies, Mrs. John Morgan (Elizabeth Agnes Mary White) '\n",
      " 'Davison, Mr. Thomas Henry' 'Deacon, Mr. Percy William'\n",
      " 'Dean, Miss. Elizabeth Gladys Millvina\"\"'\n",
      " 'Dean, Mrs. Bertram (Eva Georgetta Light)' 'Delalic, Mr. Redjo'\n",
      " 'Demetri, Mr. Marinko' 'Denbury, Mr. Herbert' 'Dennis, Mr. William'\n",
      " 'Dibden, Mr. William' 'Dika, Mr. Mirko' 'Dintcheff, Mr. Valtcho'\n",
      " 'Dodge, Dr. Washington' 'Dodge, Mrs. Washington (Ruth Vidaver)'\n",
      " 'Douglas, Mrs. Frederick Charles (Mary Helene Baxter)'\n",
      " 'Douglas, Mrs. Walter Donald (Mahala Dutton)' 'Doyle, Miss. Elizabeth'\n",
      " 'Drapkin, Miss. Jennie' 'Drew, Master. Marshall Brines'\n",
      " 'Drew, Mr. James Vivian' 'Dulles, Mr. William Crothers'\n",
      " 'Duquemin, Mr. Joseph' 'Duran y More, Miss. Florentina'\n",
      " 'Dyker, Mr. Adolf Fredrik'\n",
      " 'Dyker, Mrs. Adolf Fredrik (Anna Elisabeth Judith Andersson)'\n",
      " 'Earnshaw, Mrs. Boulton (Olive Potter)' 'Elias, Mr. Joseph'\n",
      " 'Enander, Mr. Ingvar' 'Evans, Miss. Edith Corse'\n",
      " 'Everett, Mr. Thomas James' 'Faunthorpe, Mr. Harry'\n",
      " 'Fillbrook, Mr. Joseph Charles' 'Finoli, Mr. Luigi'\n",
      " 'Flegenheim, Mrs. Alfred (Antoinette)' 'Fleming, Miss. Honora'\n",
      " 'Foley, Mr. Joseph' 'Foley, Mr. William' 'Ford, Mr. Arthur'\n",
      " 'Ford, Mr. Edward Watson' 'Fortune, Miss. Ethel Flora'\n",
      " 'Fortune, Mrs. Mark (Mary McDougald)' 'Fox, Mr. Patrick'\n",
      " 'Franklin, Mr. Charles (Charles Fardon)' 'Franklin, Mr. Thomas Parham'\n",
      " 'Frauenthal, Mr. Isaac Gerald'\n",
      " 'Frolicher-Stehli, Mrs. Maxmillian (Margaretha Emerentia Stehli)'\n",
      " 'Gale, Mr. Harry' 'Geiger, Miss. Amalie' 'Gibson, Miss. Dorothy Winifred'\n",
      " 'Gibson, Mrs. Leonard (Pauline C Boeson)' 'Gilbert, Mr. William'\n",
      " 'Giles, Mr. Edgar' 'Giles, Mr. Ralph' 'Goldsmith, Mr. Nathan'\n",
      " 'Goodwin, Miss. Jessie Allis' 'Goodwin, Mr. Charles Frederick'\n",
      " 'Gracie, Col. Archibald IV'\n",
      " 'Greenfield, Mrs. Leo David (Blanche Strouse)' 'Guest, Mr. Robert'\n",
      " 'Hagardon, Miss. Kate' 'Hansen, Mrs. Claus Peter (Jennie L Howard)'\n",
      " 'Harbeck, Mr. William H' 'Harder, Mrs. George Achilles (Dorothy Annan)'\n",
      " 'Hays, Mr. Charles Melville' 'Head, Mr. Christopher' 'Hee, Mr. Ling'\n",
      " 'Hellstrom, Miss. Hilda Maria' 'Henriksson, Miss. Jenny Lovisa'\n",
      " 'Herman, Miss. Kate' 'Herman, Mr. Samuel' 'Hilliard, Mr. Herbert Henry'\n",
      " 'Hiltunen, Miss. Marta' 'Hipkins, Mr. William Edward'\n",
      " 'Hirvonen, Mrs. Alexander (Helga E Lindqvist)'\n",
      " 'Hocking, Miss. Ellen Nellie\"\"' 'Hocking, Mr. Samuel James Metcalfe'\n",
      " 'Hold, Mrs. Stephen (Annie Margaret Hill)' 'Holthen, Mr. Johan Martin'\n",
      " 'Howard, Miss. May Elizabeth' 'Howard, Mr. Benjamin'\n",
      " 'Howard, Mrs. Benjamin (Ellen Truelove Arman)' 'Hyman, Mr. Abraham'\n",
      " 'Ilieff, Mr. Ylio' 'Ilmakangas, Miss. Ida Livija'\n",
      " 'Ismay, Mr. Joseph Bruce' 'Jefferys, Mr. Clifford Thomas'\n",
      " 'Jefferys, Mr. Ernest Wilfred' 'Johansson Palmquist, Mr. Oskar Leander'\n",
      " 'Johansson, Mr. Nils' 'Johnston, Master. William Arthur Willie\"\"'\n",
      " 'Johnston, Mrs. Andrew G (Elizabeth Lily\" Watson)\"'\n",
      " 'Jones, Mr. Charles Cresson' 'Jonsson, Mr. Nils Hilding'\n",
      " 'Julian, Mr. Henry Forbes' 'Karlsson, Mr. Einar Gervasius'\n",
      " 'Karlsson, Mr. Julius Konrad Eugen'\n",
      " 'Karnes, Mrs. J Frank (Claire Bennett)' 'Karun, Mr. Franz'\n",
      " 'Katavelas, Mr. Vassilios (Catavelas Vassilios\")\"' 'Keane, Mr. Daniel'\n",
      " 'Keeping, Mr. Edwin' 'Kelly, Mr. James' 'Kennedy, Mr. John'\n",
      " 'Kenyon, Mr. Frederick R' 'Khalil, Mr. Betros'\n",
      " 'Khalil, Mrs. Betros (Zahie Maria\" Elias)\"' 'Kiernan, Mr. John'\n",
      " 'Kimball, Mrs. Edwin Nelson Jr (Gertrude Parsons)' 'Kink, Miss. Maria'\n",
      " 'Kink-Heilmann, Mr. Anton' 'Kink-Heilmann, Mrs. Anton (Luise Heilmann)'\n",
      " 'Klasen, Miss. Gertrud Emilia'\n",
      " 'Klasen, Mrs. (Hulda Kristina Eugenia Lofqvist)' 'Krekorian, Mr. Neshan'\n",
      " 'Kreuchen, Miss. Emilie' 'Lahtinen, Rev. William' 'Lamb, Mr. John Joseph'\n",
      " 'Lane, Mr. Patrick' 'Laroche, Miss. Louise'\n",
      " 'Larsson-Rondberg, Mr. Edvard A' 'Lefebre, Mrs. Frank (Frances)'\n",
      " 'Lennon, Miss. Mary'\n",
      " 'Lindeberg-Lind, Mr. Erik Gustaf (Mr Edward Lingrey\")\"'\n",
      " 'Lindell, Mrs. Edvard Bengtsson (Elin Gerda Persson)'\n",
      " 'Lindstrom, Mrs. Carl Johan (Sigrid Posse)' 'Linehan, Mr. Michael'\n",
      " 'Lines, Mrs. Ernest H (Elizabeth Lindsey James)' 'Lingane, Mr. John'\n",
      " 'Lithman, Mr. Simon' 'Lockyer, Mr. Edward' 'Loring, Mr. Joseph Holland'\n",
      " 'Louch, Mr. Charles Alexander' 'Lundin, Miss. Olga Elida'\n",
      " 'Lundstrom, Mr. Thure Edvin' 'Lyntakoff, Mr. Stanko'\n",
      " 'MacKay, Mr. George William' 'Maguire, Mr. John Edward'\n",
      " 'Mahon, Miss. Bridget Delia' 'Mahon, Mr. John'\n",
      " 'Makinen, Mr. Kalle Edvard' 'Malachard, Mr. Noel'\n",
      " 'Mallet, Mrs. Albert (Antoinette Magnin)'\n",
      " 'Mangiavacchi, Mr. Serafino Emilio' 'Mardirosian, Mr. Sarkis'\n",
      " 'Marvin, Mrs. Daniel Warner (Mary Graham Carmichael Farquarson)'\n",
      " 'Matinoff, Mr. Nicola' 'Maybery, Mr. Frank Hubert'\n",
      " 'McCaffry, Mr. Thomas Francis' 'McCarthy, Miss. Catherine Katie\"\"'\n",
      " 'McCoy, Miss. Alicia' 'McCrae, Mr. Arthur Gordon'\n",
      " 'McCrie, Mr. James Matthew' 'McGowan, Miss. Katherine'\n",
      " \"McNamee, Mrs. Neal (Eileen O'Leary)\" 'McNeill, Miss. Bridget'\n",
      " 'Midtsjo, Mr. Karl Albert' 'Miles, Mr. Frank'\n",
      " 'Minahan, Mrs. William Edward (Lillian E Thorpe)' 'Minkoff, Mr. Lazar'\n",
      " 'Mock, Mr. Philipp Edmund' 'Moore, Mr. Clarence Bloomfield'\n",
      " 'Moubarek, Mrs. George (Omine Amenia\" Alexander)\"'\n",
      " 'Mulvihill, Miss. Bertha E' 'Murphy, Miss. Nora'\n",
      " 'Myles, Mr. Thomas Francis' 'Nakid, Mrs. Said (Waika Mary\" Mowad)\"'\n",
      " 'Nancarrow, Mr. William Henry' 'Nasr, Mr. Mustafa'\n",
      " 'Naughton, Miss. Hannah' 'Nesson, Mr. Israel'\n",
      " 'Nieminen, Miss. Manta Josefina' 'Niklasson, Mr. Samuel'\n",
      " 'Nilsson, Miss. Berta Olivia' 'Nilsson, Mr. August Ferdinand'\n",
      " 'Nourney, Mr. Alfred (Baron von Drachstedt\")\"' \"O'Connor, Mr. Patrick\"\n",
      " \"O'Donoghue, Ms. Bridget\" \"O'Keefe, Mr. Patrick\"\n",
      " 'Oliva y Ocana, Dona. Fermina' 'Olsen, Master. Artur Karl'\n",
      " 'Olsson, Mr. Oscar Wilhelm' 'Omont, Mr. Alfred Fernand'\n",
      " 'Oreskovic, Miss. Jelka' 'Ostby, Miss. Helene Ragnhild'\n",
      " 'Ovies y Rodriguez, Mr. Servando' 'Oxenham, Mr. Percy Thomas'\n",
      " 'Pallas y Castello, Mr. Emilio' 'Palsson, Master. Paul Folke'\n",
      " 'Parker, Mr. Clifford Richard' 'Payne, Mr. Vivian Ponsonby'\n",
      " 'Peacock, Master. Alfred Edward' 'Peacock, Miss. Treasteall'\n",
      " 'Peacock, Mrs. Benjamin (Edith Nile)' 'Pearce, Mr. Ernest'\n",
      " 'Pedersen, Mr. Olaf' 'Peltomaki, Mr. Nikolai Johannes'\n",
      " 'Peruschitz, Rev. Joseph Maria' 'Peter, Master. Michael J'\n",
      " 'Petersen, Mr. Marius' 'Phillips, Miss. Alice Frances Louisa'\n",
      " 'Phillips, Mr. Escott Robert' 'Pokrnic, Mr. Mate' 'Pokrnic, Mr. Tome'\n",
      " 'Portaluppi, Mr. Emilio Ilario Giuseppe' 'Pulbaum, Mr. Franz'\n",
      " 'Quick, Miss. Winifred Vera' 'Rasmussen, Mrs. (Lena Jacobsen Solvang)'\n",
      " 'Reynolds, Mr. Harold J' 'Rheims, Mr. George Alexander Lucien'\n",
      " 'Rice, Master. Albert' 'Riihivouri, Miss. Susanna Juhantytar Sanni\"\"'\n",
      " 'Riordan, Miss. Johanna Hannah\"\"' 'Risien, Mrs. Samuel (Emma)'\n",
      " 'Robins, Mr. Alexander A' 'Rogers, Mr. Reginald Harry'\n",
      " 'Rosblom, Miss. Salli Helena' 'Rosenbaum, Miss. Edith Louise'\n",
      " 'Rosenshine, Mr. George (Mr George Thorne\")\"' 'Roth, Miss. Sarah A'\n",
      " 'Rothschild, Mr. Martin' 'Rowe, Mr. Alfred G' 'Ryan, Mr. Edward'\n",
      " 'Ryerson, Master. John Borie' 'Ryerson, Mr. Arthur Larned'\n",
      " 'Ryerson, Mrs. Arthur Larned (Emily Maria Borie)' 'Saade, Mr. Jean Nassr'\n",
      " 'Sadowitz, Mr. Harry' 'Saether, Mr. Simon Sivertsen'\n",
      " 'Sage, Master. William Henry' 'Sage, Miss. Ada' 'Sage, Mr. John George'\n",
      " 'Sage, Mrs. John (Annie Bullen)' 'Salander, Mr. Karl Johan'\n",
      " 'Salomon, Mr. Abraham L' 'Samaan, Mr. Elias' 'Samaan, Mr. Hanna'\n",
      " 'Sandstrom, Miss. Beatrice Irene' 'Sap, Mr. Julius'\n",
      " 'Schabert, Mrs. Paul (Emma Mock)' 'Schmidt, Mr. August'\n",
      " 'Shaughnessy, Mr. Patrick' 'Shine, Miss. Ellen Natalia'\n",
      " 'Sincock, Miss. Maude' 'Smith, Mr. Lucien Philip'\n",
      " 'Smith, Mrs. Lucien Philip (Mary Eloise Hughes)' 'Smyth, Miss. Julia'\n",
      " 'Snyder, Mr. John Pillsbury'\n",
      " 'Snyder, Mrs. John Pillsbury (Nelle Stevenson)' 'Spector, Mr. Woolf'\n",
      " 'Spedden, Master. Robert Douglas' 'Spedden, Mr. Frederic Oakley'\n",
      " 'Spencer, Mr. William Augustus' 'Spinner, Mr. Henry John'\n",
      " 'Stanton, Mr. Samuel Ward' 'Stengel, Mr. Charles Emil Henry'\n",
      " 'Stengel, Mrs. Charles Emil Henry (Annie May Morris)'\n",
      " 'Stokes, Mr. Philip Joseph' 'Storey, Mr. Thomas' 'Straus, Mr. Isidor'\n",
      " 'Straus, Mrs. Isidor (Rosalie Ida Blun)' 'Strilic, Mr. Ivan'\n",
      " 'Svensson, Mr. Johan Cervin' 'Swane, Mr. George'\n",
      " 'Sweet, Mr. George Frederick' 'Tenglin, Mr. Gunnar Isidor'\n",
      " 'Thomas, Mr. Charles P' 'Thomas, Mr. John' 'Thomas, Mr. Tannous'\n",
      " 'Thomas, Mrs. Alexander (Thamine Thelma\")\"'\n",
      " 'Thomson, Mr. Alexander Morrison' 'Torfa, Mr. Assad'\n",
      " 'Touma, Master. Georges Youssef' 'Touma, Miss. Maria Youssef'\n",
      " 'Tucker, Mr. Gilbert Milligan Jr' 'Vander Planke, Mr. Julius'\n",
      " 'Vartanian, Mr. David' 'Veal, Mr. James' 'Vendel, Mr. Olof Edvin'\n",
      " 'Walcroft, Miss. Nellie' 'Ware, Mr. Frederick' 'Ware, Mr. John James'\n",
      " 'Ware, Mr. William Jeffery'\n",
      " 'Ware, Mrs. John James (Florence Louise Long)'\n",
      " 'Warren, Mr. Charles William' 'Warren, Mr. Frank Manley'\n",
      " 'Watt, Miss. Bertha J' 'Weisz, Mr. Leopold' 'Wells, Master. Ralph Lester'\n",
      " 'Wells, Mrs. Arthur Henry (Addie\" Dart Trevaskis)\"' 'Wenzel, Mr. Linhart'\n",
      " 'West, Miss. Barbara J' 'Whabee, Mrs. George Joseph (Shawneene Abi-Saab)'\n",
      " 'Wheeler, Mr. Edwin Frederick\"\"' 'White, Mrs. John Stuart (Ella Holmes)'\n",
      " 'Wick, Mr. George Dennick' 'Widener, Mr. George Dunton'\n",
      " 'Widener, Mrs. George Dunton (Eleanor Elkins)' 'Wiklund, Mr. Karl Johan'\n",
      " 'Wilkes, Mrs. James (Ellen Needs)' 'Willard, Miss. Constance'\n",
      " 'Willer, Mr. Aaron (Abi Weller\")\"' 'Williams, Mr. Richard Norris II'\n",
      " 'Wilson, Miss. Helen Alice' 'Wirz, Mr. Albert'\n",
      " 'Wittevrongel, Mr. Camille' 'Wright, Miss. Marion'\n",
      " 'Zakarian, Mr. Mapriededer' 'Zakarian, Mr. Ortin'\n",
      " 'de Brito, Mr. Jose Joaquim' 'de Messemaeker, Mr. Guillaume Joseph'\n",
      " 'del Carlo, Mrs. Sebastiano (Argenia Genovesi)'\n",
      " 'van Billiard, Master. James William' 'van Billiard, Master. Walter John']\n",
      "\n",
      "\n",
      "Sex\n",
      "['female' 'male']\n",
      "\n",
      "\n",
      "Age\n",
      "[ 0.17        0.33        0.75        0.83        0.92        1.\n",
      "  2.          3.          5.          6.          7.          8.\n",
      "  9.         10.         11.5        12.         13.         14.\n",
      " 14.5        15.         16.         17.         18.         18.5\n",
      " 19.         20.         21.         22.         22.5        23.\n",
      " 24.         25.         26.         26.5        27.         28.\n",
      " 28.5        29.         30.         30.27259036 31.         32.\n",
      " 32.5        33.         34.         34.5        35.         36.\n",
      " 36.5        37.         38.         38.5        39.         40.\n",
      " 40.5        41.         42.         43.         44.         45.\n",
      " 46.         47.         48.         49.         50.         51.\n",
      " 53.         54.         55.         57.         58.         59.\n",
      " 60.         60.5        61.         62.         63.         64.\n",
      " 67.         76.        ]\n",
      "\n",
      "\n",
      "SibSp\n",
      "[0 1 2 3 4 5 8]\n",
      "\n",
      "\n",
      "Parch\n",
      "[0 1 2 3 4 5 6 9]\n",
      "\n",
      "\n",
      "Ticket\n",
      "['110469' '110489' '110813' '111163' '112051' '112058' '112377' '112378'\n",
      " '112901' '113038' '113044' '113054' '113059' '113503' '113509' '113773'\n",
      " '113778' '113780' '113781' '113790' '113791' '113795' '113796' '113801'\n",
      " '11753' '11765' '11767' '11769' '11770' '11778' '11813' '1222' '12749'\n",
      " '13050' '13236' '13508' '13567' '13695' '13905' '1601' '16966' '17463'\n",
      " '17464' '17475' '17765' '17770' '19877' '19924' '19928' '19950' '2003'\n",
      " '211535' '21228' '21332' '220844' '220845' '226875' '228414' '230136'\n",
      " '233478' '233734' '235509' '236853' '236854' '237216' '237249' '237393'\n",
      " '237670' '237734' '237735' '237789' '239059' '240261' '240276' '24065'\n",
      " '24160' '242963' '244346' '244358' '244360' '244368' '248659' '248726'\n",
      " '248734' '248738' '248744' '248746' '250650' '250651' '2543' '2621'\n",
      " '2622' '2625' '26360' '2650' '2652' '2653' '2654' '2655' '2656' '2657'\n",
      " '2658' '2660' '2661' '2662' '2668' '2670' '26707' '2673' '2675' '2676'\n",
      " '2678' '2679' '2680' '2681' '2682' '2684' '2688' '2689' '2692' '2696'\n",
      " '2698' '28004' '28034' '28133' '28220' '28221' '28404' '28664' '28666'\n",
      " '29103' '29105' '29107' '2926' '29750' '3101266' '3101295' '3101297'\n",
      " '3101298' '315083' '315085' '315087' '315091' '315092' '315095' '315152'\n",
      " '315153' '315154' '32302' '329944' '330844' '330910' '330911' '330920'\n",
      " '330924' '330963' '330968' '330971' '330972' '334914' '334915' '335432'\n",
      " '33638' '3410' '342441' '342684' '342712' '343271' '345498' '345501'\n",
      " '345572' '345763' '345768' '345771' '345775' '3470' '347065' '347066'\n",
      " '347070' '347072' '347075' '347077' '347079' '347080' '347086' '347090'\n",
      " '347091' '347465' '347467' '347469' '347471' '348122' '348125' '349202'\n",
      " '349211' '349220' '349226' '349229' '349230' '349232' '349235' '349238'\n",
      " '349250' '349255' '349256' '349909' '349910' '349911' '350026' '350033'\n",
      " '350045' '350053' '350054' '350403' '350405' '350408' '350409' '350410'\n",
      " '350416' '359306' '359309' '363272' '363611' '364498' '364856' '364858'\n",
      " '364859' '365235' '365237' '36568' '366713' '367226' '367227' '368364'\n",
      " '368402' '368573' '368702' '368783' '36928' '3701' '370129' '370368'\n",
      " '370371' '370374' '371109' '371362' '376563' '376566' '382650' '382652'\n",
      " '382653' '383123' '383162' '386525' '392091' '392095' '4133' '65305'\n",
      " '680' '694' '7266' '7538' '7548' '7935' '9232' 'A. 2. 39186' 'A./5. 3338'\n",
      " 'A.5. 3236' 'A/4 31416' 'A/4 48871' 'A/4 48873' 'A/5 1478' 'A/5 21175'\n",
      " 'A/5. 3337' 'A/5. 851' 'AQ/3. 30631' 'AQ/4 3130' 'C 17368' 'C 4001'\n",
      " 'C.A. 15185' 'C.A. 2315' 'C.A. 2673' 'C.A. 30769' 'C.A. 31029'\n",
      " 'C.A. 31030' 'C.A. 33112' 'C.A. 33595' 'C.A. 34050' 'C.A. 34644'\n",
      " 'C.A. 34651' 'C.A. 37671' 'C.A. 42795' 'C.A. 49867' 'C.A. 6212' 'CA 2144'\n",
      " 'CA 31352' 'CA. 2343' 'F.C. 12750' 'F.C. 12998' 'F.C.C. 13528'\n",
      " 'F.C.C. 13534' 'F.C.C. 13540' 'LP 1588' 'PC 17483' 'PC 17531' 'PC 17558'\n",
      " 'PC 17562' 'PC 17569' 'PC 17580' 'PC 17585' 'PC 17591' 'PC 17592'\n",
      " 'PC 17594' 'PC 17597' 'PC 17598' 'PC 17599' 'PC 17603' 'PC 17606'\n",
      " 'PC 17607' 'PC 17608' 'PC 17613' 'PC 17755' 'PC 17756' 'PC 17757'\n",
      " 'PC 17758' 'PC 17759' 'PC 17760' 'PC 17761' 'PP 9549' 'S.C./PARIS 2079'\n",
      " 'S.O./P.P. 2' 'S.O./P.P. 251' 'S.O./P.P. 752' 'S.O.C. 14879' 'SC 14888'\n",
      " 'SC/A.3 2861' 'SC/A4 23568' 'SC/AH 29037' 'SC/AH 3085' 'SC/PARIS 2147'\n",
      " 'SC/PARIS 2148' 'SC/PARIS 2159' 'SC/PARIS 2166' 'SC/PARIS 2167'\n",
      " 'SC/PARIS 2168' 'SC/Paris 2123' 'SOTON/O.Q. 3101262' 'SOTON/O.Q. 3101263'\n",
      " 'SOTON/O.Q. 3101308' 'SOTON/O.Q. 3101309' 'SOTON/O.Q. 3101314'\n",
      " 'SOTON/O.Q. 3101315' 'SOTON/O2 3101284' 'SOTON/OQ 392083'\n",
      " 'STON/O 2. 3101268' 'STON/O 2. 3101291' 'STON/O2. 3101270'\n",
      " 'STON/OQ. 369943' 'W./C. 14260' 'W./C. 14266' 'W./C. 6607' 'W./C. 6608'\n",
      " 'W.E.P. 5734']\n",
      "\n",
      "\n",
      "Fare\n",
      "[  0.       3.1708   6.4375   6.4958   6.95     7.       7.05     7.225\n",
      "   7.2292   7.25     7.2833   7.55     7.575    7.5792   7.6292   7.65\n",
      "   7.7208   7.725    7.7333   7.75     7.775    7.7792   7.7958   7.8208\n",
      "   7.8292   7.85     7.8542   7.8792   7.8875   7.8958   7.925    8.05\n",
      "   8.1125   8.5167   8.6625   8.7125   8.9625   9.225    9.325    9.35\n",
      "   9.5      9.6875  10.5     10.7083  11.5     12.1833  12.2875  12.35\n",
      "  12.7375  12.875   13.      13.4167  13.5     13.775   13.8583  13.8625\n",
      "  13.9     14.1083  14.4     14.4542  14.4583  14.5     15.0333  15.0458\n",
      "  15.1     15.2458  15.5     15.55    15.5792  15.7417  15.75    15.9\n",
      "  16.      16.1     16.7     17.4     18.      20.2125  20.25    20.575\n",
      "  21.      21.075   21.6792  22.025   22.3583  22.525   23.      23.25\n",
      "  23.45    24.15    25.4667  25.7     25.7417  26.      26.55    27.4458\n",
      "  27.7208  27.75    28.5     28.5375  29.      29.125   29.7     30.\n",
      "  30.5     31.3875  31.5     31.6792  31.6833  32.5     34.375   36.75\n",
      "  37.0042  39.      39.4     39.6     39.6875  41.5792  42.4     42.5\n",
      "  45.5     46.9     47.1     50.      50.4958  51.4792  51.8625  52.\n",
      "  52.5542  53.1     55.4417  56.4958  57.75    59.4     60.      61.175\n",
      "  61.3792  61.9792  63.3583  65.      69.55    71.2833  73.5     75.2417\n",
      "  75.25    76.2917  78.85    79.2     81.8583  82.2667  83.1583  90.\n",
      "  93.5    106.425  108.9    134.5    135.6333 136.7792 146.5208 151.55\n",
      " 164.8667 211.3375 211.5    221.7792 227.525  247.5208 262.375  263.\n",
      " 512.3292]\n",
      "\n",
      "\n",
      "Cabin\n",
      "['A11' 'A18' 'A21' 'A29' 'A34' 'A9' 'B10' 'B11' 'B24' 'B26' 'B36' 'B41'\n",
      " 'B45' 'B51 B53 B55' 'B52 B54 B56' 'B57 B59 B63 B66' 'B58 B60' 'B61' 'B69'\n",
      " 'B71' 'B78' 'C101' 'C105' 'C106' 'C116' 'C130' 'C132' 'C22 C26'\n",
      " 'C23 C25 C27' 'C28' 'C31' 'C32' 'C39' 'C46' 'C51' 'C53' 'C54' 'C55 C57'\n",
      " 'C6' 'C62 C64' 'C7' 'C78' 'C80' 'C85' 'C86' 'C89' 'C97' 'D' 'D10 D12'\n",
      " 'D15' 'D19' 'D21' 'D22' 'D28' 'D30' 'D34' 'D37' 'D38' 'D40' 'D43' 'E31'\n",
      " 'E34' 'E39 E41' 'E45' 'E46' 'E50' 'E52' 'E60' 'F' 'F E46' 'F E57' 'F G63'\n",
      " 'F2' 'F33' 'F4' 'G6']\n",
      "\n",
      "\n",
      "Embarked\n",
      "['C' 'Q' 'S']\n",
      "\n",
      "\n"
     ]
    }
   ],
   "source": [
    "for i in df1.columns:\n",
    "  print(i,df1[i].sort_values().unique(),\"\\n\",sep=\"\\n\")"
   ]
  },
  {
   "cell_type": "code",
   "execution_count": 25,
   "id": "5ad1945f",
   "metadata": {},
   "outputs": [
    {
     "name": "stdout",
     "output_type": "stream",
     "text": [
      "PassengerId\n",
      "[ 892  893  894  895  896  897  898  899  900  901  902  903  904  905\n",
      "  906  907  908  909  910  911  912  913  914  915  916  917  918  919\n",
      "  920  921  922  923  924  925  926  927  928  929  930  931  932  933\n",
      "  934  935  936  937  938  939  940  941  942  943  944  945  946  947\n",
      "  948  949  950  951  952  953  954  955  956  957  958  959  960  961\n",
      "  962  963  964  965  966  967  968  969  970  971  972  973  974  975\n",
      "  976  977  978  979  980  981  982  983  984  985  986  987  988  989\n",
      "  990  991  992  993  994  995  996  997  998  999 1000 1001 1002 1003\n",
      " 1004 1005 1006 1007 1008 1009 1010 1011 1012 1013 1014 1015 1016 1017\n",
      " 1018 1019 1020 1021 1022 1023 1024 1025 1026 1027 1028 1029 1030 1031\n",
      " 1032 1033 1034 1035 1036 1037 1038 1039 1040 1041 1042 1043 1044 1045\n",
      " 1046 1047 1048 1049 1050 1051 1052 1053 1054 1055 1056 1057 1058 1059\n",
      " 1060 1061 1062 1063 1064 1065 1066 1067 1068 1069 1070 1071 1072 1073\n",
      " 1074 1075 1076 1077 1078 1079 1080 1081 1082 1083 1084 1085 1086 1087\n",
      " 1088 1089 1090 1091 1092 1093 1094 1095 1096 1097 1098 1099 1100 1101\n",
      " 1102 1103 1104 1105 1106 1107 1108 1109 1110 1111 1112 1113 1114 1115\n",
      " 1116 1117 1118 1119 1120 1121 1122 1123 1124 1125 1126 1127 1128 1129\n",
      " 1130 1131 1132 1133 1134 1135 1136 1137 1138 1139 1140 1141 1142 1143\n",
      " 1144 1145 1146 1147 1148 1149 1150 1151 1152 1153 1154 1155 1156 1157\n",
      " 1158 1159 1160 1161 1162 1163 1164 1165 1166 1167 1168 1169 1170 1171\n",
      " 1172 1173 1174 1175 1176 1177 1178 1179 1180 1181 1182 1183 1184 1185\n",
      " 1186 1187 1188 1189 1190 1191 1192 1193 1194 1195 1196 1197 1198 1199\n",
      " 1200 1201 1202 1203 1204 1205 1206 1207 1208 1209 1210 1211 1212 1213\n",
      " 1214 1215 1216 1217 1218 1219 1220 1221 1222 1223 1224 1225 1226 1227\n",
      " 1228 1229 1230 1231 1232 1233 1234 1235 1236 1237 1238 1239 1240 1241\n",
      " 1242 1243 1244 1245 1246 1247 1248 1249 1250 1251 1252 1253 1254 1255\n",
      " 1256 1257 1258 1259 1260 1261 1262 1263 1264 1265 1266 1267 1268 1269\n",
      " 1270 1271 1272 1273 1274 1275 1276 1277 1278 1279 1280 1281 1282 1283\n",
      " 1284 1285 1286 1287 1288 1289 1290 1291 1292 1293 1294 1295 1296 1297\n",
      " 1298 1299 1300 1301 1302 1303 1304 1305 1306 1307 1308 1309]\n",
      "\n",
      "\n",
      "Survived\n",
      "[0 1]\n",
      "\n",
      "\n"
     ]
    }
   ],
   "source": [
    "for i in df2.columns:\n",
    "  print(i,df2[i].sort_values().unique(),\"\\n\",sep=\"\\n\")"
   ]
  },
  {
   "cell_type": "code",
   "execution_count": 26,
   "id": "5722b631",
   "metadata": {},
   "outputs": [
    {
     "data": {
      "text/html": [
       "<div>\n",
       "<style scoped>\n",
       "    .dataframe tbody tr th:only-of-type {\n",
       "        vertical-align: middle;\n",
       "    }\n",
       "\n",
       "    .dataframe tbody tr th {\n",
       "        vertical-align: top;\n",
       "    }\n",
       "\n",
       "    .dataframe thead th {\n",
       "        text-align: right;\n",
       "    }\n",
       "</style>\n",
       "<table border=\"1\" class=\"dataframe\">\n",
       "  <thead>\n",
       "    <tr style=\"text-align: right;\">\n",
       "      <th></th>\n",
       "      <th>PassengerId</th>\n",
       "      <th>Survived</th>\n",
       "    </tr>\n",
       "  </thead>\n",
       "  <tbody>\n",
       "    <tr>\n",
       "      <th>count</th>\n",
       "      <td>418.000000</td>\n",
       "      <td>418.000000</td>\n",
       "    </tr>\n",
       "    <tr>\n",
       "      <th>mean</th>\n",
       "      <td>1100.500000</td>\n",
       "      <td>0.363636</td>\n",
       "    </tr>\n",
       "    <tr>\n",
       "      <th>std</th>\n",
       "      <td>120.810458</td>\n",
       "      <td>0.481622</td>\n",
       "    </tr>\n",
       "    <tr>\n",
       "      <th>min</th>\n",
       "      <td>892.000000</td>\n",
       "      <td>0.000000</td>\n",
       "    </tr>\n",
       "    <tr>\n",
       "      <th>25%</th>\n",
       "      <td>996.250000</td>\n",
       "      <td>0.000000</td>\n",
       "    </tr>\n",
       "    <tr>\n",
       "      <th>50%</th>\n",
       "      <td>1100.500000</td>\n",
       "      <td>0.000000</td>\n",
       "    </tr>\n",
       "    <tr>\n",
       "      <th>75%</th>\n",
       "      <td>1204.750000</td>\n",
       "      <td>1.000000</td>\n",
       "    </tr>\n",
       "    <tr>\n",
       "      <th>max</th>\n",
       "      <td>1309.000000</td>\n",
       "      <td>1.000000</td>\n",
       "    </tr>\n",
       "  </tbody>\n",
       "</table>\n",
       "</div>"
      ],
      "text/plain": [
       "       PassengerId    Survived\n",
       "count   418.000000  418.000000\n",
       "mean   1100.500000    0.363636\n",
       "std     120.810458    0.481622\n",
       "min     892.000000    0.000000\n",
       "25%     996.250000    0.000000\n",
       "50%    1100.500000    0.000000\n",
       "75%    1204.750000    1.000000\n",
       "max    1309.000000    1.000000"
      ]
     },
     "execution_count": 26,
     "metadata": {},
     "output_type": "execute_result"
    }
   ],
   "source": [
    "df.describe()"
   ]
  },
  {
   "cell_type": "code",
   "execution_count": 27,
   "id": "a7b177dc",
   "metadata": {},
   "outputs": [
    {
     "data": {
      "text/html": [
       "<div>\n",
       "<style scoped>\n",
       "    .dataframe tbody tr th:only-of-type {\n",
       "        vertical-align: middle;\n",
       "    }\n",
       "\n",
       "    .dataframe tbody tr th {\n",
       "        vertical-align: top;\n",
       "    }\n",
       "\n",
       "    .dataframe thead th {\n",
       "        text-align: right;\n",
       "    }\n",
       "</style>\n",
       "<table border=\"1\" class=\"dataframe\">\n",
       "  <thead>\n",
       "    <tr style=\"text-align: right;\">\n",
       "      <th></th>\n",
       "      <th>PassengerId</th>\n",
       "      <th>Pclass</th>\n",
       "      <th>Age</th>\n",
       "      <th>SibSp</th>\n",
       "      <th>Parch</th>\n",
       "      <th>Fare</th>\n",
       "    </tr>\n",
       "  </thead>\n",
       "  <tbody>\n",
       "    <tr>\n",
       "      <th>count</th>\n",
       "      <td>418.000000</td>\n",
       "      <td>418.000000</td>\n",
       "      <td>418.000000</td>\n",
       "      <td>418.000000</td>\n",
       "      <td>418.000000</td>\n",
       "      <td>418.000000</td>\n",
       "    </tr>\n",
       "    <tr>\n",
       "      <th>mean</th>\n",
       "      <td>1100.500000</td>\n",
       "      <td>2.265550</td>\n",
       "      <td>30.272590</td>\n",
       "      <td>0.447368</td>\n",
       "      <td>0.392344</td>\n",
       "      <td>35.560497</td>\n",
       "    </tr>\n",
       "    <tr>\n",
       "      <th>std</th>\n",
       "      <td>120.810458</td>\n",
       "      <td>0.841838</td>\n",
       "      <td>12.634534</td>\n",
       "      <td>0.896760</td>\n",
       "      <td>0.981429</td>\n",
       "      <td>55.857145</td>\n",
       "    </tr>\n",
       "    <tr>\n",
       "      <th>min</th>\n",
       "      <td>892.000000</td>\n",
       "      <td>1.000000</td>\n",
       "      <td>0.170000</td>\n",
       "      <td>0.000000</td>\n",
       "      <td>0.000000</td>\n",
       "      <td>0.000000</td>\n",
       "    </tr>\n",
       "    <tr>\n",
       "      <th>25%</th>\n",
       "      <td>996.250000</td>\n",
       "      <td>1.000000</td>\n",
       "      <td>23.000000</td>\n",
       "      <td>0.000000</td>\n",
       "      <td>0.000000</td>\n",
       "      <td>7.895800</td>\n",
       "    </tr>\n",
       "    <tr>\n",
       "      <th>50%</th>\n",
       "      <td>1100.500000</td>\n",
       "      <td>3.000000</td>\n",
       "      <td>30.272590</td>\n",
       "      <td>0.000000</td>\n",
       "      <td>0.000000</td>\n",
       "      <td>14.454200</td>\n",
       "    </tr>\n",
       "    <tr>\n",
       "      <th>75%</th>\n",
       "      <td>1204.750000</td>\n",
       "      <td>3.000000</td>\n",
       "      <td>35.750000</td>\n",
       "      <td>1.000000</td>\n",
       "      <td>0.000000</td>\n",
       "      <td>31.471875</td>\n",
       "    </tr>\n",
       "    <tr>\n",
       "      <th>max</th>\n",
       "      <td>1309.000000</td>\n",
       "      <td>3.000000</td>\n",
       "      <td>76.000000</td>\n",
       "      <td>8.000000</td>\n",
       "      <td>9.000000</td>\n",
       "      <td>512.329200</td>\n",
       "    </tr>\n",
       "  </tbody>\n",
       "</table>\n",
       "</div>"
      ],
      "text/plain": [
       "       PassengerId      Pclass         Age       SibSp       Parch        Fare\n",
       "count   418.000000  418.000000  418.000000  418.000000  418.000000  418.000000\n",
       "mean   1100.500000    2.265550   30.272590    0.447368    0.392344   35.560497\n",
       "std     120.810458    0.841838   12.634534    0.896760    0.981429   55.857145\n",
       "min     892.000000    1.000000    0.170000    0.000000    0.000000    0.000000\n",
       "25%     996.250000    1.000000   23.000000    0.000000    0.000000    7.895800\n",
       "50%    1100.500000    3.000000   30.272590    0.000000    0.000000   14.454200\n",
       "75%    1204.750000    3.000000   35.750000    1.000000    0.000000   31.471875\n",
       "max    1309.000000    3.000000   76.000000    8.000000    9.000000  512.329200"
      ]
     },
     "execution_count": 27,
     "metadata": {},
     "output_type": "execute_result"
    }
   ],
   "source": [
    "df1.describe()"
   ]
  },
  {
   "cell_type": "code",
   "execution_count": 28,
   "id": "24a5617a",
   "metadata": {},
   "outputs": [
    {
     "data": {
      "text/html": [
       "<div>\n",
       "<style scoped>\n",
       "    .dataframe tbody tr th:only-of-type {\n",
       "        vertical-align: middle;\n",
       "    }\n",
       "\n",
       "    .dataframe tbody tr th {\n",
       "        vertical-align: top;\n",
       "    }\n",
       "\n",
       "    .dataframe thead th {\n",
       "        text-align: right;\n",
       "    }\n",
       "</style>\n",
       "<table border=\"1\" class=\"dataframe\">\n",
       "  <thead>\n",
       "    <tr style=\"text-align: right;\">\n",
       "      <th></th>\n",
       "      <th>PassengerId</th>\n",
       "      <th>Survived</th>\n",
       "    </tr>\n",
       "  </thead>\n",
       "  <tbody>\n",
       "    <tr>\n",
       "      <th>count</th>\n",
       "      <td>418.000000</td>\n",
       "      <td>418.000000</td>\n",
       "    </tr>\n",
       "    <tr>\n",
       "      <th>mean</th>\n",
       "      <td>1100.500000</td>\n",
       "      <td>0.363636</td>\n",
       "    </tr>\n",
       "    <tr>\n",
       "      <th>std</th>\n",
       "      <td>120.810458</td>\n",
       "      <td>0.481622</td>\n",
       "    </tr>\n",
       "    <tr>\n",
       "      <th>min</th>\n",
       "      <td>892.000000</td>\n",
       "      <td>0.000000</td>\n",
       "    </tr>\n",
       "    <tr>\n",
       "      <th>25%</th>\n",
       "      <td>996.250000</td>\n",
       "      <td>0.000000</td>\n",
       "    </tr>\n",
       "    <tr>\n",
       "      <th>50%</th>\n",
       "      <td>1100.500000</td>\n",
       "      <td>0.000000</td>\n",
       "    </tr>\n",
       "    <tr>\n",
       "      <th>75%</th>\n",
       "      <td>1204.750000</td>\n",
       "      <td>1.000000</td>\n",
       "    </tr>\n",
       "    <tr>\n",
       "      <th>max</th>\n",
       "      <td>1309.000000</td>\n",
       "      <td>1.000000</td>\n",
       "    </tr>\n",
       "  </tbody>\n",
       "</table>\n",
       "</div>"
      ],
      "text/plain": [
       "       PassengerId    Survived\n",
       "count   418.000000  418.000000\n",
       "mean   1100.500000    0.363636\n",
       "std     120.810458    0.481622\n",
       "min     892.000000    0.000000\n",
       "25%     996.250000    0.000000\n",
       "50%    1100.500000    0.000000\n",
       "75%    1204.750000    1.000000\n",
       "max    1309.000000    1.000000"
      ]
     },
     "execution_count": 28,
     "metadata": {},
     "output_type": "execute_result"
    }
   ],
   "source": [
    "df2.describe()"
   ]
  },
  {
   "cell_type": "code",
   "execution_count": null,
   "id": "8e89b0c7",
   "metadata": {},
   "outputs": [],
   "source": [
    "#Mean,Median,Mode and Standard deviation for Train data set"
   ]
  },
  {
   "cell_type": "code",
   "execution_count": null,
   "id": "f6992f5b",
   "metadata": {},
   "outputs": [],
   "source": [
    "#MEAN"
   ]
  },
  {
   "cell_type": "code",
   "execution_count": 29,
   "id": "30e56995",
   "metadata": {},
   "outputs": [],
   "source": [
    "mean = df.mean()\n"
   ]
  },
  {
   "cell_type": "code",
   "execution_count": 30,
   "id": "e8d04cdd",
   "metadata": {},
   "outputs": [
    {
     "name": "stdout",
     "output_type": "stream",
     "text": [
      "PassengerId    1100.500000\n",
      "Survived          0.363636\n",
      "dtype: float64\n"
     ]
    }
   ],
   "source": [
    "print(mean)"
   ]
  },
  {
   "cell_type": "code",
   "execution_count": null,
   "id": "cb345208",
   "metadata": {},
   "outputs": [],
   "source": [
    "#MEDIAN"
   ]
  },
  {
   "cell_type": "code",
   "execution_count": 31,
   "id": "a1841ee4",
   "metadata": {},
   "outputs": [],
   "source": [
    "median = df.median()\n"
   ]
  },
  {
   "cell_type": "code",
   "execution_count": 32,
   "id": "345a3ed7",
   "metadata": {},
   "outputs": [
    {
     "name": "stdout",
     "output_type": "stream",
     "text": [
      "PassengerId    1100.5\n",
      "Survived          0.0\n",
      "dtype: float64\n"
     ]
    }
   ],
   "source": [
    "print(median)"
   ]
  },
  {
   "cell_type": "code",
   "execution_count": null,
   "id": "406832c6",
   "metadata": {},
   "outputs": [],
   "source": [
    "#MODE"
   ]
  },
  {
   "cell_type": "code",
   "execution_count": 33,
   "id": "59dbac42",
   "metadata": {},
   "outputs": [],
   "source": [
    "mode = df.mode()\n"
   ]
  },
  {
   "cell_type": "code",
   "execution_count": 34,
   "id": "e112b1af",
   "metadata": {},
   "outputs": [
    {
     "name": "stdout",
     "output_type": "stream",
     "text": [
      "     PassengerId  Survived\n",
      "0            892       0.0\n",
      "1            893       NaN\n",
      "2            894       NaN\n",
      "3            895       NaN\n",
      "4            896       NaN\n",
      "..           ...       ...\n",
      "413         1305       NaN\n",
      "414         1306       NaN\n",
      "415         1307       NaN\n",
      "416         1308       NaN\n",
      "417         1309       NaN\n",
      "\n",
      "[418 rows x 2 columns]\n"
     ]
    }
   ],
   "source": [
    "print(mode)"
   ]
  },
  {
   "cell_type": "code",
   "execution_count": null,
   "id": "08338e15",
   "metadata": {},
   "outputs": [],
   "source": [
    "#Standard deviation"
   ]
  },
  {
   "cell_type": "code",
   "execution_count": 35,
   "id": "41f565dd",
   "metadata": {},
   "outputs": [],
   "source": [
    "std_deviation = df.std()"
   ]
  },
  {
   "cell_type": "code",
   "execution_count": 36,
   "id": "305f92a3",
   "metadata": {},
   "outputs": [
    {
     "name": "stdout",
     "output_type": "stream",
     "text": [
      "PassengerId    120.810458\n",
      "Survived         0.481622\n",
      "dtype: float64\n"
     ]
    }
   ],
   "source": [
    "print(std_deviation)"
   ]
  },
  {
   "cell_type": "code",
   "execution_count": null,
   "id": "e50b7dcd",
   "metadata": {},
   "outputs": [],
   "source": []
  },
  {
   "cell_type": "code",
   "execution_count": null,
   "id": "3dfaf5f8",
   "metadata": {},
   "outputs": [],
   "source": [
    "#Mean,Median,Mode and Standard deviation for Test data set"
   ]
  },
  {
   "cell_type": "code",
   "execution_count": null,
   "id": "00ce3a6e",
   "metadata": {},
   "outputs": [],
   "source": [
    "#mean"
   ]
  },
  {
   "cell_type": "code",
   "execution_count": 37,
   "id": "73fcb5ef",
   "metadata": {},
   "outputs": [
    {
     "name": "stderr",
     "output_type": "stream",
     "text": [
      "C:\\Users\\devka\\AppData\\Local\\Temp\\ipykernel_4476\\2587741797.py:1: FutureWarning: Dropping of nuisance columns in DataFrame reductions (with 'numeric_only=None') is deprecated; in a future version this will raise TypeError.  Select only valid columns before calling the reduction.\n",
      "  mean = df1.mean()\n"
     ]
    }
   ],
   "source": [
    "mean = df1.mean()"
   ]
  },
  {
   "cell_type": "code",
   "execution_count": 38,
   "id": "fda01640",
   "metadata": {},
   "outputs": [
    {
     "name": "stdout",
     "output_type": "stream",
     "text": [
      "PassengerId    1100.500000\n",
      "Pclass            2.265550\n",
      "Age              30.272590\n",
      "SibSp             0.447368\n",
      "Parch             0.392344\n",
      "Fare             35.560497\n",
      "dtype: float64\n"
     ]
    }
   ],
   "source": [
    "print(mean)"
   ]
  },
  {
   "cell_type": "code",
   "execution_count": 39,
   "id": "be152598",
   "metadata": {},
   "outputs": [
    {
     "name": "stderr",
     "output_type": "stream",
     "text": [
      "C:\\Users\\devka\\AppData\\Local\\Temp\\ipykernel_4476\\97840154.py:1: FutureWarning: Dropping of nuisance columns in DataFrame reductions (with 'numeric_only=None') is deprecated; in a future version this will raise TypeError.  Select only valid columns before calling the reduction.\n",
      "  median = df1.median()\n"
     ]
    }
   ],
   "source": [
    "median = df1.median()\n"
   ]
  },
  {
   "cell_type": "code",
   "execution_count": 40,
   "id": "390b3131",
   "metadata": {},
   "outputs": [
    {
     "name": "stdout",
     "output_type": "stream",
     "text": [
      "PassengerId    1100.50000\n",
      "Pclass            3.00000\n",
      "Age              30.27259\n",
      "SibSp             0.00000\n",
      "Parch             0.00000\n",
      "Fare             14.45420\n",
      "dtype: float64\n"
     ]
    }
   ],
   "source": [
    "print(median)"
   ]
  },
  {
   "cell_type": "code",
   "execution_count": null,
   "id": "8bc6e214",
   "metadata": {},
   "outputs": [],
   "source": [
    "#MODE"
   ]
  },
  {
   "cell_type": "code",
   "execution_count": 41,
   "id": "91ca5cfe",
   "metadata": {},
   "outputs": [],
   "source": [
    "mode = df1.mode()\n"
   ]
  },
  {
   "cell_type": "code",
   "execution_count": 42,
   "id": "a821a6fd",
   "metadata": {},
   "outputs": [
    {
     "name": "stdout",
     "output_type": "stream",
     "text": [
      "     PassengerId  Pclass                                           Name   Sex  \\\n",
      "0            892     3.0                  Abbott, Master. Eugene Joseph  male   \n",
      "1            893     NaN                    Abelseth, Miss. Karen Marie   NaN   \n",
      "2            894     NaN                  Abelseth, Mr. Olaus Jorgensen   NaN   \n",
      "3            895     NaN       Abrahamsson, Mr. Abraham August Johannes   NaN   \n",
      "4            896     NaN      Abrahim, Mrs. Joseph (Sophie Halaut Easu)   NaN   \n",
      "..           ...     ...                                            ...   ...   \n",
      "413         1305     NaN                     de Brito, Mr. Jose Joaquim   NaN   \n",
      "414         1306     NaN           de Messemaeker, Mr. Guillaume Joseph   NaN   \n",
      "415         1307     NaN  del Carlo, Mrs. Sebastiano (Argenia Genovesi)   NaN   \n",
      "416         1308     NaN            van Billiard, Master. James William   NaN   \n",
      "417         1309     NaN              van Billiard, Master. Walter John   NaN   \n",
      "\n",
      "          Age  SibSp  Parch    Ticket  Fare            Cabin Embarked  \n",
      "0    30.27259    0.0    0.0  PC 17608  7.75  B57 B59 B63 B66        S  \n",
      "1         NaN    NaN    NaN       NaN   NaN              NaN      NaN  \n",
      "2         NaN    NaN    NaN       NaN   NaN              NaN      NaN  \n",
      "3         NaN    NaN    NaN       NaN   NaN              NaN      NaN  \n",
      "4         NaN    NaN    NaN       NaN   NaN              NaN      NaN  \n",
      "..        ...    ...    ...       ...   ...              ...      ...  \n",
      "413       NaN    NaN    NaN       NaN   NaN              NaN      NaN  \n",
      "414       NaN    NaN    NaN       NaN   NaN              NaN      NaN  \n",
      "415       NaN    NaN    NaN       NaN   NaN              NaN      NaN  \n",
      "416       NaN    NaN    NaN       NaN   NaN              NaN      NaN  \n",
      "417       NaN    NaN    NaN       NaN   NaN              NaN      NaN  \n",
      "\n",
      "[418 rows x 11 columns]\n"
     ]
    }
   ],
   "source": [
    "print(mode)"
   ]
  },
  {
   "cell_type": "code",
   "execution_count": null,
   "id": "2ea2d131",
   "metadata": {},
   "outputs": [],
   "source": [
    "#Standard deviation"
   ]
  },
  {
   "cell_type": "code",
   "execution_count": 43,
   "id": "b94e2eaf",
   "metadata": {},
   "outputs": [
    {
     "name": "stderr",
     "output_type": "stream",
     "text": [
      "C:\\Users\\devka\\AppData\\Local\\Temp\\ipykernel_4476\\1921406206.py:1: FutureWarning: Dropping of nuisance columns in DataFrame reductions (with 'numeric_only=None') is deprecated; in a future version this will raise TypeError.  Select only valid columns before calling the reduction.\n",
      "  std_deviation = df1.std()\n"
     ]
    }
   ],
   "source": [
    "std_deviation = df1.std()"
   ]
  },
  {
   "cell_type": "code",
   "execution_count": 44,
   "id": "483971e8",
   "metadata": {},
   "outputs": [
    {
     "name": "stdout",
     "output_type": "stream",
     "text": [
      "PassengerId    120.810458\n",
      "Pclass           0.841838\n",
      "Age             12.634534\n",
      "SibSp            0.896760\n",
      "Parch            0.981429\n",
      "Fare            55.857145\n",
      "dtype: float64\n"
     ]
    }
   ],
   "source": [
    "print(std_deviation)"
   ]
  },
  {
   "cell_type": "code",
   "execution_count": null,
   "id": "245eefcb",
   "metadata": {},
   "outputs": [],
   "source": [
    "#Mean,Median,Mode and Standard deviation for gender submission  data set"
   ]
  },
  {
   "cell_type": "code",
   "execution_count": null,
   "id": "c478cac6",
   "metadata": {},
   "outputs": [],
   "source": [
    "#mean"
   ]
  },
  {
   "cell_type": "code",
   "execution_count": 45,
   "id": "66df4e4a",
   "metadata": {},
   "outputs": [],
   "source": [
    "mean = df2.mean()"
   ]
  },
  {
   "cell_type": "code",
   "execution_count": 46,
   "id": "226306b6",
   "metadata": {},
   "outputs": [
    {
     "name": "stdout",
     "output_type": "stream",
     "text": [
      "PassengerId    1100.500000\n",
      "Survived          0.363636\n",
      "dtype: float64\n"
     ]
    }
   ],
   "source": [
    "print(mean)"
   ]
  },
  {
   "cell_type": "code",
   "execution_count": null,
   "id": "f60361fc",
   "metadata": {},
   "outputs": [],
   "source": [
    "#median"
   ]
  },
  {
   "cell_type": "code",
   "execution_count": 47,
   "id": "e6a20c58",
   "metadata": {},
   "outputs": [],
   "source": [
    "median = df2.median()\n"
   ]
  },
  {
   "cell_type": "code",
   "execution_count": 48,
   "id": "b997828b",
   "metadata": {},
   "outputs": [
    {
     "name": "stdout",
     "output_type": "stream",
     "text": [
      "PassengerId    1100.5\n",
      "Survived          0.0\n",
      "dtype: float64\n"
     ]
    }
   ],
   "source": [
    "print(median)"
   ]
  },
  {
   "cell_type": "code",
   "execution_count": null,
   "id": "86a06eb9",
   "metadata": {},
   "outputs": [],
   "source": [
    "#MODE"
   ]
  },
  {
   "cell_type": "code",
   "execution_count": 49,
   "id": "3c8c708a",
   "metadata": {},
   "outputs": [],
   "source": [
    "mode = df2.mode()\n"
   ]
  },
  {
   "cell_type": "code",
   "execution_count": 50,
   "id": "d3807181",
   "metadata": {},
   "outputs": [
    {
     "name": "stdout",
     "output_type": "stream",
     "text": [
      "     PassengerId  Survived\n",
      "0            892       0.0\n",
      "1            893       NaN\n",
      "2            894       NaN\n",
      "3            895       NaN\n",
      "4            896       NaN\n",
      "..           ...       ...\n",
      "413         1305       NaN\n",
      "414         1306       NaN\n",
      "415         1307       NaN\n",
      "416         1308       NaN\n",
      "417         1309       NaN\n",
      "\n",
      "[418 rows x 2 columns]\n"
     ]
    }
   ],
   "source": [
    "print(mode)"
   ]
  },
  {
   "cell_type": "code",
   "execution_count": null,
   "id": "d5ea12ee",
   "metadata": {},
   "outputs": [],
   "source": [
    "#Standard deviation"
   ]
  },
  {
   "cell_type": "code",
   "execution_count": 51,
   "id": "5a04ec2a",
   "metadata": {},
   "outputs": [],
   "source": [
    "std_deviation = df2.std()"
   ]
  },
  {
   "cell_type": "code",
   "execution_count": 52,
   "id": "37ca1ab0",
   "metadata": {},
   "outputs": [
    {
     "name": "stdout",
     "output_type": "stream",
     "text": [
      "PassengerId    120.810458\n",
      "Survived         0.481622\n",
      "dtype: float64\n"
     ]
    }
   ],
   "source": [
    "print(std_deviation)"
   ]
  },
  {
   "cell_type": "code",
   "execution_count": null,
   "id": "bdc7dd10",
   "metadata": {},
   "outputs": [],
   "source": []
  }
 ],
 "metadata": {
  "kernelspec": {
   "display_name": "Python 3 (ipykernel)",
   "language": "python",
   "name": "python3"
  },
  "language_info": {
   "codemirror_mode": {
    "name": "ipython",
    "version": 3
   },
   "file_extension": ".py",
   "mimetype": "text/x-python",
   "name": "python",
   "nbconvert_exporter": "python",
   "pygments_lexer": "ipython3",
   "version": "3.9.13"
  }
 },
 "nbformat": 4,
 "nbformat_minor": 5
}
